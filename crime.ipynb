{
 "cells": [
  {
   "cell_type": "code",
   "execution_count": 4,
   "metadata": {},
   "outputs": [],
   "source": [
    "import tensorflow as tf\n",
    "import numpy as np\n",
    "import pandas as pd"
   ]
  },
  {
   "cell_type": "code",
   "execution_count": 25,
   "metadata": {},
   "outputs": [],
   "source": [
    "training = pd.read_csv(\"criminal_train.csv\", index_col='PERID')"
   ]
  },
  {
   "cell_type": "code",
   "execution_count": 46,
   "metadata": {},
   "outputs": [],
   "source": [
    "# Parameters\n",
    "training_epochs = 20\n",
    "batch_size = 9\n",
    "start_rate = 0.0002\n",
    "\n",
    "# Network Parameters\n",
    "n_hidden_1 = 35 # 1st layer number of neurons\n",
    "n_hidden_2 = 50 # 2nd layer number of neurons\n",
    "n_features = 70 # \n",
    "n_classes = 2 #\n",
    "\n",
    "########### Defining tensorflow computational graph ###########\n",
    "\n",
    "# tf Graph input\n",
    "# Features\n",
    "X = tf.placeholder(tf.float32, [None, n_features])\n",
    "# Labels\n",
    "Y = tf.placeholder(tf.float32, [None,1])\n",
    "# decay step for learning rate decay\n",
    "decay_step = tf.placeholder(tf.int32)\n",
    "\n",
    "\n",
    "# Create model\n",
    "def deep_neural_network(x):\n",
    "\n",
    "    # Hidden fully connected layer with 100 neurons\n",
    "    layer_1 = tf.layers.dense(x, n_hidden_1, activation=tf.nn.relu)\n",
    "    # Hidden fully connected layer with 50 neurons\n",
    "    #layer_2 = tf.layers.dense(layer_1, n_hidden_2, activation=tf.nn.relu)\n",
    "    # Output fully connected layer with a neuron for each class\n",
    "    out_layer = tf.layers.dense(layer_1, 1)\n",
    "    return tf.sigmoid(out_layer)\n",
    "\n",
    "# Construct model\n",
    "logits = deep_neural_network(X)\n",
    "\n",
    "# Define loss and optimizer\n",
    "# Converting categories into one hot labels\n",
    "labels = Y\n",
    "loss_op = tf.reduce_mean(tf.nn.sigmoid_cross_entropy_with_logits(\n",
    "    \t\t\t\t\tlogits=logits, labels=labels))\n",
    "global_step = tf.Variable(0, trainable=False)\n",
    "\n",
    "# Using a learning rate which has polynomial decay\n",
    "starter_learning_rate = start_rate\n",
    "end_learning_rate = 0.00005 # we will use a polynomial decay to reach learning this learning rate.29\n",
    "decay_steps = decay_step\n",
    "learning_rate = tf.train.polynomial_decay(starter_learning_rate, global_step,\n",
    "                                          decay_steps, end_learning_rate,\n",
    "                                          power=0.5)\n",
    "# Using adam optimizer to reduce loss\n",
    "optimizer = tf.train.AdamOptimizer(learning_rate=learning_rate)\n",
    "train_op = optimizer.minimize(loss_op)\n",
    "\n",
    "# Initializing the variables\n",
    "init = tf.global_variables_initializer()\n",
    "\n",
    "# Model for testing\n",
    "prediction = logits # \n",
    "\n"
   ]
  },
  {
   "cell_type": "code",
   "execution_count": 37,
   "metadata": {},
   "outputs": [],
   "source": [
    "cols_to_normalise = list(training.columns.values)[:70]\n",
    "training[cols_to_normalise] = training[cols_to_normalise].apply(lambda x: (x - x.min()) / (x.max() - x.min()))"
   ]
  },
  {
   "cell_type": "code",
   "execution_count": 47,
   "metadata": {},
   "outputs": [],
   "source": [
    "def get_accuracy(df):\n",
    "\n",
    "\t# Calculate accuracy for label classification\n",
    "\tpreds = prediction.eval(feed_dict={X: df.iloc[:, 0:-1]}) # Getting back the predictions\n",
    "\n",
    "\n",
    "\t# Preparing Labels\n",
    "\tlabels = df.iloc[:, -1].values\n",
    "\t\n",
    "\t# Compating predictions and labels to calculate accuracy\n",
    "\tcorrect_labels = tf.equal(preds, labels)\n",
    "\tlabel_accuracy = tf.reduce_mean(tf.cast(correct_labels, tf.float32))\n",
    "\tresult = label_accuracy.eval()\n",
    "\tprint(\"Label accuracy: {:.2f}%\".format(result*100))\n"
   ]
  },
  {
   "cell_type": "code",
   "execution_count": null,
   "metadata": {},
   "outputs": [],
   "source": [
    "def train_and_test_model(training, testing):\n",
    "    with tf.Session() as sess:\n",
    "        sess.run(init)\n",
    "\n",
    "        # Training cycle\n",
    "        for epoch in range(training_epochs):\n",
    "            # Shuffling dataset before training\n",
    "            df = training.sample(frac=1)\n",
    "            avg_cost = 0.\n",
    "            total_data = df.index.shape[0] \n",
    "            num_batches = total_data // batch_size + 1\n",
    "            i = 0\n",
    "            # Loop over all batches\n",
    "            while i < total_data:\n",
    "                batch_x = df.iloc[i:i+batch_size, 0:-1].values\n",
    "                batch_y = df.iloc[i:i+batch_size, -1].values # Last column is labels\n",
    "                batch_y = batch_y.reshape(batch_y.shape[0], 1)\n",
    "                i += batch_size\n",
    "                # Run optimization op and cost op (to get loss value)\n",
    "                _, c = sess.run([train_op, loss_op], feed_dict={X: batch_x,\n",
    "                                                                Y: batch_y,\n",
    "                                                                decay_step: num_batches * training_epochs})\n",
    "                # Compute average loss\n",
    "                avg_cost += c / num_batches\n",
    "            # Display logs per epoch step\n",
    "            print(\"Epoch: {:04} | Cost={:.9f}\".format(epoch+1, avg_cost))\n",
    "            get_accuracy(testing)\n",
    "            print()\n",
    "        print(\"Training complete\")\n",
    "\n",
    "        print(\"Training results: \")\n",
    "        get_accuracy(training)\n",
    "        print(\"Testing results: \")\n",
    "        get_accuracy(testing)\n",
    "\n",
    "\n",
    "# Training the model after shuffling the data.\n",
    "train_and_test_model(training, training)\n"
   ]
  },
  {
   "cell_type": "code",
   "execution_count": null,
   "metadata": {},
   "outputs": [],
   "source": []
  }
 ],
 "metadata": {
  "kernelspec": {
   "display_name": "Python 3",
   "language": "python",
   "name": "python3"
  },
  "language_info": {
   "codemirror_mode": {
    "name": "ipython",
    "version": 3
   },
   "file_extension": ".py",
   "mimetype": "text/x-python",
   "name": "python",
   "nbconvert_exporter": "python",
   "pygments_lexer": "ipython3",
   "version": "3.6.3"
  }
 },
 "nbformat": 4,
 "nbformat_minor": 2
}
